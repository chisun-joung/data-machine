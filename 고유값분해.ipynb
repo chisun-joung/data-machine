{
 "cells": [
  {
   "cell_type": "markdown",
   "metadata": {},
   "source": [
    "## 고유값과 고유 벡터\n",
    "\n",
    "정방행렬 $A$에 대해 다음식을 만족하는 영벡터가 아닌 벡터 $v$, 실수 $\\lambda$를 찾을 수 있다고 하면\n",
    "\n",
    "$Av =\\lambda v$\n",
    "\n",
    "$ \\lambda$ 를 eigenvalue $v$를 eigenvector 라고 한다. \n",
    "\n",
    "행렬 $A$의 고유벡터는 행렬 $A$를 곱해서 변환을 해도 방향이 바뀌지 않는 벡터이다. "
   ]
  },
  {
   "cell_type": "markdown",
   "metadata": {},
   "source": [
    "## 특성방정식\n",
    "\n",
    "행렬 $A$의 고유값은 $A-\\lambda I$의 행렬식이 0이 되도록 하는 특성방정식의 해를 구하는 것이다. \n",
    "\n",
    "$\\det{(A-\\lambda I)} = 0 $"
   ]
  },
  {
   "cell_type": "code",
   "execution_count": null,
   "metadata": {},
   "outputs": [],
   "source": []
  }
 ],
 "metadata": {
  "kernelspec": {
   "display_name": "Python 3",
   "language": "python",
   "name": "python3"
  },
  "language_info": {
   "codemirror_mode": {
    "name": "ipython",
    "version": 3
   },
   "file_extension": ".py",
   "mimetype": "text/x-python",
   "name": "python",
   "nbconvert_exporter": "python",
   "pygments_lexer": "ipython3",
   "version": "3.7.4"
  }
 },
 "nbformat": 4,
 "nbformat_minor": 2
}
