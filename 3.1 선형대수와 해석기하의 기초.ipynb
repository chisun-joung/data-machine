{
 "cells": [
  {
   "cell_type": "markdown",
   "metadata": {},
   "source": [
    "#### 유클리드 거리\n",
    "\n",
    "$\\|a-b\\| = \\sqrt{\\displaystyle\\sum_{i=1}(a_i - b_i)^2}$\n",
    "\n",
    "$\\|a-b\\|^2 = \\|a\\|^2 + \\|b\\|^2 - 2a^Tb$\n",
    "\n"
   ]
  },
  {
   "cell_type": "markdown",
   "metadata": {},
   "source": [
    "#### 벡터의 내적\n",
    "\n",
    "$a^Tb = \\|a\\|\\|b\\|cos\\theta$\n",
    "\n",
    "#### 정규직교\n",
    "\n",
    "N개의 단위 백터 $v_1,v_2, \\dots , v_N $ 이 서로 직교하면 정규직교(orthonormal)라고 한다. \n",
    "\n",
    "$\\|v_i\\| = 1 \\leftrightarrow v_i^Tv_i = 1 $\n",
    "\n",
    "$v_i^Tv_j = 0 \\;(i \\neq j) $\n",
    "\n",
    "#### 코사인 유사도\n",
    "\n",
    "코사인 유사도 = $cos \\theta = \\frac{x^Ty}{\\|x\\|\\|y\\|}$\n",
    "\n",
    "코사인 거리 = 1 - 코사인 유사도 = $ 1 - \\frac{x^Ty}{\\|x\\|y}$\n",
    "\n",
    "#### 투영성분 직교성분\n",
    "\n",
    "$ a^{\\|b} = \\frac{a^Tb}{\\|b\\|^2}b $\n",
    "\n",
    "b가 단위 벡터 이면 $ \\|a^{\\|b}\\|  = a^Tb$\n",
    "\n",
    "$ a^{\\perp b} = a - a^{\\|b} $"
   ]
  },
  {
   "cell_type": "markdown",
   "metadata": {},
   "source": [
    "### 직선의 방정식\n",
    "벡터 w가 가리키는 점을 지나면서 벡터 w에 직교인 직선\n",
    "\n",
    "$$w^Tx-\\|w\\|^2 = 0$$\n",
    "\n",
    "\n",
    "벡터 w에 직교인 직선\n",
    "\n",
    "$$w^Tx -c\\|w\\|2 = 0 $$\n",
    "$$ w^Tx - w_0 = 0$$\n",
    "$$c\\|w\\| = \\frac{w_0}{\\|w\\|} $$\n"
   ]
  },
  {
   "cell_type": "markdown",
   "metadata": {},
   "source": [
    "# $\\mathfrak{Pro \\,Omnibus, Omnes \\,Pro}$"
   ]
  },
  {
   "cell_type": "code",
   "execution_count": null,
   "metadata": {},
   "outputs": [],
   "source": []
  }
 ],
 "metadata": {
  "kernelspec": {
   "display_name": "Python 3",
   "language": "python",
   "name": "python3"
  },
  "language_info": {
   "codemirror_mode": {
    "name": "ipython",
    "version": 3
   },
   "file_extension": ".py",
   "mimetype": "text/x-python",
   "name": "python",
   "nbconvert_exporter": "python",
   "pygments_lexer": "ipython3",
   "version": "3.7.4"
  }
 },
 "nbformat": 4,
 "nbformat_minor": 2
}
