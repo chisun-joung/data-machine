{
 "cells": [
  {
   "cell_type": "markdown",
   "metadata": {},
   "source": [
    "#### 유클리드 거리\n",
    "\n",
    "$\\|a-b\\| = \\sqrt{\\displaystyle\\sum_{i=1}(a_i - b_i)^2}$\n",
    "\n",
    "$\\|a-b\\|^2 = \\|a\\|^2 + \\|b\\|^2 - 2a^Tb$\n",
    "\n"
   ]
  },
  {
   "cell_type": "markdown",
   "metadata": {},
   "source": [
    "#### 벡터의 내적\n",
    "\n",
    "$a^Tb = \\|a\\|\\|b\\|cos\\theta$\n",
    "\n",
    "#### 정규직교\n",
    "\n",
    "N개의 단위 백터 $v_1,v_2, \\dots , v_N $ 이 서로 직교하면 정규직교(orthonormal)라고 한다. \n",
    "\n",
    "$\\|v_i\\| = 1 \\leftrightarrow v_i^Tv_i = 1 $\n",
    "\n",
    "$v_i^Tv_j = 0 \\;(i \\neq j) $\n",
    "\n",
    "#### 코사인 유사도\n",
    "\n",
    "코사인 유사도 = $cos \\theta = \\frac{x^Ty}{\\|x\\|\\|y\\|}$\n",
    "\n",
    "코사인 거리 = 1 - 코사인 유사도 = $ 1 - \\frac{x^Ty}{\\|x\\|y}$\n",
    "\n",
    "#### 투영성분 직교성분\n",
    "\n",
    "$ a^{\\|b} = \\frac{a^Tb}{\\|b\\|^2}b $\n",
    "\n",
    "b가 단위 벡터 이면 $ \\|a^{\\|b}\\|  = a^Tb$\n",
    "\n",
    "$ a^{\\perp b} = a - a^{\\|b} $"
   ]
  },
  {
   "cell_type": "markdown",
   "metadata": {},
   "source": [
    "### 직선의 방정식\n",
    "벡터 w가 가리키는 점을 지나면서 벡터 w에 직교인 직선\n",
    "\n",
    "$$w^Tx-\\|w\\|^2 = 0$$\n",
    "\n",
    "\n",
    "벡터 w에 직교인 직선\n",
    "\n",
    "$$w^Tx -c\\|w\\|2 = 0 $$\n",
    "$$ w^Tx - w_0 = 0$$\n",
    "$$c\\|w\\| = \\frac{w_0}{\\|w\\|} $$\n"
   ]
  },
  {
   "cell_type": "markdown",
   "metadata": {},
   "source": [
    "# $\\mathbb{UNUS\\, PRO\\, OMNIBUS,\\, OMNES\\, PRO\\, UNO}$"
   ]
  },
  {
   "cell_type": "markdown",
   "metadata": {},
   "source": [
    "## 직선과 점의 거리\n",
    "\n",
    "직선 $w^Tx - \\|w\\|^2 = 0$ 과 이 직선 위에 있지 않은 점 x'사이의 거리\n",
    "\n",
    "$\\|x'^{\\|w}\\| = \\frac{w^Tx'}{\\|x\\|}$\n",
    "\n",
    "직선과 점 x' 사이의 거리는 이 딜이에서 원점에서 직선까지의 거리 $\\|w\\|$를 뺀 값의 절댓값이다. \n",
    "\n",
    "$\\Big|\\|x'^{\\|w}\\| - \\|w\\|\\Big| = \\Big|\\frac{w^Tx'}{\\|w\\|} - \\|w\\|\\Big| = \\frac{\\Big|w^Tx' - \\|w\\|^2\\Big|}{\\|w\\|}  $\n",
    "\n",
    "직선의 방정식이 $w^Tx - w_0 = 0 $이면 직선과 점의 거리\n",
    "\n",
    "$\\frac{\\Big|w^Tx' - w_0\\Big|}{\\|w\\|}$"
   ]
  },
  {
   "cell_type": "markdown",
   "metadata": {},
   "source": [
    "## 선형종속과 선형독립\n",
    "\n",
    "선형종속 (linearly dependent)\n",
    "\n",
    "$c_1x_1 + c_2x_2 + \\dots + c_Nx_N = 0$\n",
    "\n",
    "선형독립 (linearly independent)\n",
    "\n",
    "$c_1x_1 + \\dots + c_Nx_N = 0 \\leftrightarrow c_1=\\dots=c_N=0$"
   ]
  },
  {
   "cell_type": "markdown",
   "metadata": {},
   "source": [
    "## 선형독립과 선형 연립 방정식\n",
    "\n",
    "### | 경우 1: 벡터의 개수가 벡터의 차원보다 크면 선형종속이다. |\n",
    "### | 경우 2: 값이 같은 벡터가 있으면 반드시 선형 종속이다. |\n",
    "### | 경우 3: 어떤 벡터가 다른 벡터의 선형조합이면 반드시 선형종속이다. |"
   ]
  },
  {
   "cell_type": "markdown",
   "metadata": {},
   "source": [
    "## 랭크\n",
    "행렬의 열벡터 중 서로 독립인 열벡터의 최대 개수를 열랭크라고 하고 행벡터중 서로 독립인 행벡터의 최대 개수를 행랭크라고 한다. 두 랭크는 항상 같다. \n",
    "$$rankA \\leq min(M,N) $$\n",
    "$$ A \\in R^{N\\times M} $$"
   ]
  },
  {
   "cell_type": "code",
   "execution_count": 1,
   "metadata": {},
   "outputs": [
    {
     "data": {
      "text/plain": [
       "2"
      ]
     },
     "execution_count": 1,
     "metadata": {},
     "output_type": "execute_result"
    }
   ],
   "source": [
    "X1 = np.array([[1, 3],[2, 4]])\n",
    "np.linalg.matrix_rank(X1)"
   ]
  },
  {
   "cell_type": "code",
   "execution_count": 3,
   "metadata": {},
   "outputs": [
    {
     "data": {
      "text/plain": [
       "2"
      ]
     },
     "execution_count": 3,
     "metadata": {},
     "output_type": "execute_result"
    }
   ],
   "source": [
    "X1 = np.array([[2,0],[0,2]])\n",
    "np.linalg.matrix_rank(X1)"
   ]
  },
  {
   "cell_type": "code",
   "execution_count": null,
   "metadata": {},
   "outputs": [],
   "source": []
  }
 ],
 "metadata": {
  "kernelspec": {
   "display_name": "Python 3",
   "language": "python",
   "name": "python3"
  },
  "language_info": {
   "codemirror_mode": {
    "name": "ipython",
    "version": 3
   },
   "file_extension": ".py",
   "mimetype": "text/x-python",
   "name": "python",
   "nbconvert_exporter": "python",
   "pygments_lexer": "ipython3",
   "version": "3.7.4"
  }
 },
 "nbformat": 4,
 "nbformat_minor": 2
}
